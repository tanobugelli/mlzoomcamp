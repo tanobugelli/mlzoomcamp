{
 "cells": [
  {
   "cell_type": "code",
   "execution_count": 1,
   "id": "d5f7c56b",
   "metadata": {},
   "outputs": [
    {
     "name": "stdout",
     "output_type": "stream",
     "text": [
      "1.4.2\n"
     ]
    }
   ],
   "source": [
    "#question 1\n",
    "\n",
    "import pandas as pd\n",
    "\n",
    "print(pd.__version__)"
   ]
  },
  {
   "cell_type": "code",
   "execution_count": 2,
   "id": "4e7402d9",
   "metadata": {},
   "outputs": [
    {
     "name": "stdout",
     "output_type": "stream",
     "text": [
      "\r",
      "  0% [                                                      ]       0 / 1423529\r",
      "  0% [                                                      ]    8192 / 1423529\r",
      "  1% [                                                      ]   16384 / 1423529\r",
      "  1% [                                                      ]   24576 / 1423529\r",
      "  2% [.                                                     ]   32768 / 1423529\r",
      "  2% [.                                                     ]   40960 / 1423529\r",
      "  3% [.                                                     ]   49152 / 1423529\r",
      "  4% [..                                                    ]   57344 / 1423529\r",
      "  4% [..                                                    ]   65536 / 1423529\r",
      "  5% [..                                                    ]   73728 / 1423529\r",
      "  5% [...                                                   ]   81920 / 1423529\r",
      "  6% [...                                                   ]   90112 / 1423529\r",
      "  6% [...                                                   ]   98304 / 1423529\r",
      "  7% [....                                                  ]  106496 / 1423529\r",
      "  8% [....                                                  ]  114688 / 1423529\r",
      "  8% [....                                                  ]  122880 / 1423529\r",
      "  9% [....                                                  ]  131072 / 1423529\r",
      "  9% [.....                                                 ]  139264 / 1423529\r",
      " 10% [.....                                                 ]  147456 / 1423529\r",
      " 10% [.....                                                 ]  155648 / 1423529\r",
      " 11% [......                                                ]  163840 / 1423529\r",
      " 12% [......                                                ]  172032 / 1423529\r",
      " 12% [......                                                ]  180224 / 1423529\r",
      " 13% [.......                                               ]  188416 / 1423529\r",
      " 13% [.......                                               ]  196608 / 1423529\r",
      " 14% [.......                                               ]  204800 / 1423529\r",
      " 14% [........                                              ]  212992 / 1423529\r",
      " 15% [........                                              ]  221184 / 1423529\r",
      " 16% [........                                              ]  229376 / 1423529\r",
      " 16% [.........                                             ]  237568 / 1423529\r",
      " 17% [.........                                             ]  245760 / 1423529\r",
      " 17% [.........                                             ]  253952 / 1423529\r",
      " 18% [.........                                             ]  262144 / 1423529\r",
      " 18% [..........                                            ]  270336 / 1423529\r",
      " 19% [..........                                            ]  278528 / 1423529\r",
      " 20% [..........                                            ]  286720 / 1423529\r",
      " 20% [...........                                           ]  294912 / 1423529\r",
      " 21% [...........                                           ]  303104 / 1423529\r",
      " 21% [...........                                           ]  311296 / 1423529\r",
      " 22% [............                                          ]  319488 / 1423529\r",
      " 23% [............                                          ]  327680 / 1423529\r",
      " 23% [............                                          ]  335872 / 1423529\r",
      " 24% [.............                                         ]  344064 / 1423529\r",
      " 24% [.............                                         ]  352256 / 1423529\r",
      " 25% [.............                                         ]  360448 / 1423529\r",
      " 25% [.............                                         ]  368640 / 1423529\r",
      " 26% [..............                                        ]  376832 / 1423529\r",
      " 27% [..............                                        ]  385024 / 1423529\r",
      " 27% [..............                                        ]  393216 / 1423529\r",
      " 28% [...............                                       ]  401408 / 1423529\r",
      " 28% [...............                                       ]  409600 / 1423529\r",
      " 29% [...............                                       ]  417792 / 1423529\r",
      " 29% [................                                      ]  425984 / 1423529\r",
      " 30% [................                                      ]  434176 / 1423529\r",
      " 31% [................                                      ]  442368 / 1423529\r",
      " 31% [.................                                     ]  450560 / 1423529\r",
      " 32% [.................                                     ]  458752 / 1423529\r",
      " 32% [.................                                     ]  466944 / 1423529\r",
      " 33% [..................                                    ]  475136 / 1423529\r",
      " 33% [..................                                    ]  483328 / 1423529\r",
      " 34% [..................                                    ]  491520 / 1423529\r",
      " 35% [..................                                    ]  499712 / 1423529\r",
      " 35% [...................                                   ]  507904 / 1423529\r",
      " 36% [...................                                   ]  516096 / 1423529\r",
      " 36% [...................                                   ]  524288 / 1423529\r",
      " 37% [....................                                  ]  532480 / 1423529\r",
      " 37% [....................                                  ]  540672 / 1423529\r",
      " 38% [....................                                  ]  548864 / 1423529\r",
      " 39% [.....................                                 ]  557056 / 1423529\r",
      " 39% [.....................                                 ]  565248 / 1423529\r",
      " 40% [.....................                                 ]  573440 / 1423529\r",
      " 40% [......................                                ]  581632 / 1423529\r",
      " 41% [......................                                ]  589824 / 1423529\r",
      " 42% [......................                                ]  598016 / 1423529\r",
      " 42% [......................                                ]  606208 / 1423529\r",
      " 43% [.......................                               ]  614400 / 1423529\r",
      " 43% [.......................                               ]  622592 / 1423529\r",
      " 44% [.......................                               ]  630784 / 1423529\r",
      " 44% [........................                              ]  638976 / 1423529\r",
      " 45% [........................                              ]  647168 / 1423529\r",
      " 46% [........................                              ]  655360 / 1423529\r",
      " 46% [.........................                             ]  663552 / 1423529\r",
      " 47% [.........................                             ]  671744 / 1423529\r",
      " 47% [.........................                             ]  679936 / 1423529\r",
      " 48% [..........................                            ]  688128 / 1423529\r",
      " 48% [..........................                            ]  696320 / 1423529\r",
      " 49% [..........................                            ]  704512 / 1423529\r",
      " 50% [...........................                           ]  712704 / 1423529\r",
      " 50% [...........................                           ]  720896 / 1423529\r",
      " 51% [...........................                           ]  729088 / 1423529\r",
      " 51% [...........................                           ]  737280 / 1423529\r",
      " 52% [............................                          ]  745472 / 1423529\r",
      " 52% [............................                          ]  753664 / 1423529\r",
      " 53% [............................                          ]  761856 / 1423529\r",
      " 54% [.............................                         ]  770048 / 1423529\r",
      " 54% [.............................                         ]  778240 / 1423529\r",
      " 55% [.............................                         ]  786432 / 1423529\r",
      " 55% [..............................                        ]  794624 / 1423529\r",
      " 56% [..............................                        ]  802816 / 1423529\r",
      " 56% [..............................                        ]  811008 / 1423529\r",
      " 57% [...............................                       ]  819200 / 1423529\r",
      " 58% [...............................                       ]  827392 / 1423529\r",
      " 58% [...............................                       ]  835584 / 1423529\r",
      " 59% [................................                      ]  843776 / 1423529\r",
      " 59% [................................                      ]  851968 / 1423529\r",
      " 60% [................................                      ]  860160 / 1423529\r",
      " 60% [................................                      ]  868352 / 1423529"
     ]
    },
    {
     "name": "stdout",
     "output_type": "stream",
     "text": [
      "\r",
      " 61% [.................................                     ]  876544 / 1423529\r",
      " 62% [.................................                     ]  884736 / 1423529\r",
      " 62% [.................................                     ]  892928 / 1423529\r",
      " 63% [..................................                    ]  901120 / 1423529\r",
      " 63% [..................................                    ]  909312 / 1423529\r",
      " 64% [..................................                    ]  917504 / 1423529\r",
      " 65% [...................................                   ]  925696 / 1423529\r",
      " 65% [...................................                   ]  933888 / 1423529\r",
      " 66% [...................................                   ]  942080 / 1423529\r",
      " 66% [....................................                  ]  950272 / 1423529\r",
      " 67% [....................................                  ]  958464 / 1423529\r",
      " 67% [....................................                  ]  966656 / 1423529\r",
      " 68% [....................................                  ]  974848 / 1423529\r",
      " 69% [.....................................                 ]  983040 / 1423529\r",
      " 69% [.....................................                 ]  991232 / 1423529\r",
      " 70% [.....................................                 ]  999424 / 1423529\r",
      " 70% [......................................                ] 1007616 / 1423529\r",
      " 71% [......................................                ] 1015808 / 1423529\r",
      " 71% [......................................                ] 1024000 / 1423529\r",
      " 72% [.......................................               ] 1032192 / 1423529\r",
      " 73% [.......................................               ] 1040384 / 1423529\r",
      " 73% [.......................................               ] 1048576 / 1423529\r",
      " 74% [........................................              ] 1056768 / 1423529\r",
      " 74% [........................................              ] 1064960 / 1423529\r",
      " 75% [........................................              ] 1073152 / 1423529\r",
      " 75% [.........................................             ] 1081344 / 1423529\r",
      " 76% [.........................................             ] 1089536 / 1423529\r",
      " 77% [.........................................             ] 1097728 / 1423529\r",
      " 77% [.........................................             ] 1105920 / 1423529\r",
      " 78% [..........................................            ] 1114112 / 1423529\r",
      " 78% [..........................................            ] 1122304 / 1423529\r",
      " 79% [..........................................            ] 1130496 / 1423529\r",
      " 79% [...........................................           ] 1138688 / 1423529\r",
      " 80% [...........................................           ] 1146880 / 1423529\r",
      " 81% [...........................................           ] 1155072 / 1423529\r",
      " 81% [............................................          ] 1163264 / 1423529\r",
      " 82% [............................................          ] 1171456 / 1423529\r",
      " 82% [............................................          ] 1179648 / 1423529\r",
      " 83% [.............................................         ] 1187840 / 1423529\r",
      " 84% [.............................................         ] 1196032 / 1423529\r",
      " 84% [.............................................         ] 1204224 / 1423529\r",
      " 85% [.............................................         ] 1212416 / 1423529\r",
      " 85% [..............................................        ] 1220608 / 1423529\r",
      " 86% [..............................................        ] 1228800 / 1423529\r",
      " 86% [..............................................        ] 1236992 / 1423529\r",
      " 87% [...............................................       ] 1245184 / 1423529\r",
      " 88% [...............................................       ] 1253376 / 1423529\r",
      " 88% [...............................................       ] 1261568 / 1423529\r",
      " 89% [................................................      ] 1269760 / 1423529\r",
      " 89% [................................................      ] 1277952 / 1423529\r",
      " 90% [................................................      ] 1286144 / 1423529\r",
      " 90% [.................................................     ] 1294336 / 1423529\r",
      " 91% [.................................................     ] 1302528 / 1423529\r",
      " 92% [.................................................     ] 1310720 / 1423529\r",
      " 92% [..................................................    ] 1318912 / 1423529\r",
      " 93% [..................................................    ] 1327104 / 1423529\r",
      " 93% [..................................................    ] 1335296 / 1423529\r",
      " 94% [..................................................    ] 1343488 / 1423529\r",
      " 94% [...................................................   ] 1351680 / 1423529\r",
      " 95% [...................................................   ] 1359872 / 1423529\r",
      " 96% [...................................................   ] 1368064 / 1423529\r",
      " 96% [....................................................  ] 1376256 / 1423529\r",
      " 97% [....................................................  ] 1384448 / 1423529\r",
      " 97% [....................................................  ] 1392640 / 1423529\r",
      " 98% [..................................................... ] 1400832 / 1423529\r",
      " 98% [..................................................... ] 1409024 / 1423529\r",
      " 99% [..................................................... ] 1417216 / 1423529\r",
      "100% [......................................................] 1423529 / 1423529Number of columns: 10\n"
     ]
    }
   ],
   "source": [
    "#question 2\n",
    "\n",
    "import wget\n",
    "import os\n",
    "\n",
    "url = \"https://raw.githubusercontent.com/alexeygrigorev/datasets/master/housing.csv\"\n",
    "download_path = \"Downloads/\"\n",
    "output_file = os.path.join(download_path, \"housing.csv\")\n",
    "\n",
    "wget.download(url, out=output_file)\n",
    "\n",
    "df = pd.read_csv(output_file)\n",
    "\n",
    "# Get number of columns\n",
    "num_columns = df.shape[1]  # 2nd element represents the number of columns\n",
    "\n",
    "print(\"Number of columns:\", num_columns)\n"
   ]
  },
  {
   "cell_type": "code",
   "execution_count": 3,
   "id": "1c503795",
   "metadata": {},
   "outputs": [
    {
     "name": "stdout",
     "output_type": "stream",
     "text": [
      "longitude               0\n",
      "latitude                0\n",
      "housing_median_age      0\n",
      "total_rooms             0\n",
      "total_bedrooms        207\n",
      "population              0\n",
      "households              0\n",
      "median_income           0\n",
      "median_house_value      0\n",
      "ocean_proximity         0\n",
      "dtype: int64\n"
     ]
    }
   ],
   "source": [
    "#question 3\n",
    "\n",
    "# Check for missing values in each column\n",
    "missing_values = df.isnull().sum()\n",
    "\n",
    "# Print number of missing values in each column\n",
    "print(missing_values)\n"
   ]
  },
  {
   "cell_type": "code",
   "execution_count": 4,
   "id": "34ca8028",
   "metadata": {},
   "outputs": [
    {
     "name": "stdout",
     "output_type": "stream",
     "text": [
      "Number of unique values for each column:\n",
      "longitude               844\n",
      "latitude                862\n",
      "housing_median_age       52\n",
      "total_rooms            5926\n",
      "total_bedrooms         1923\n",
      "population             3888\n",
      "households             1815\n",
      "median_income         12928\n",
      "median_house_value     3842\n",
      "ocean_proximity           5\n",
      "dtype: int64\n"
     ]
    }
   ],
   "source": [
    "#question 4\n",
    "\n",
    "# Calculate number of unique values for each column\n",
    "unique_values_counts = df.nunique()\n",
    "\n",
    "print(\"Number of unique values for each column:\")\n",
    "print(unique_values_counts)"
   ]
  },
  {
   "cell_type": "code",
   "execution_count": 5,
   "id": "2b86cc6c",
   "metadata": {},
   "outputs": [
    {
     "name": "stdout",
     "output_type": "stream",
     "text": [
      "Number of instances with value 'NEAR BAY': 2290\n"
     ]
    }
   ],
   "source": [
    "#question 5\n",
    "\n",
    "# Count the number of instances in ocean_proximity with value \"NEAR BAY\"\n",
    "count_near_bay = (df['ocean_proximity'] == 'NEAR BAY').sum()\n",
    "\n",
    "print(\"Number of instances with value 'NEAR BAY':\", count_near_bay)"
   ]
  },
  {
   "cell_type": "code",
   "execution_count": 6,
   "id": "079ad6f0",
   "metadata": {},
   "outputs": [
    {
     "name": "stdout",
     "output_type": "stream",
     "text": [
      "median_house_value for rows with ocean_proximity 'NEAR BAY':\n",
      "0        452600.0\n",
      "1        358500.0\n",
      "2        352100.0\n",
      "3        341300.0\n",
      "4        342200.0\n",
      "           ...   \n",
      "19067    297600.0\n",
      "19068    208000.0\n",
      "19069    262300.0\n",
      "19077    213200.0\n",
      "19104    246300.0\n",
      "Name: median_house_value, Length: 2290, dtype: float64\n"
     ]
    }
   ],
   "source": [
    "# Select the 'median_house_value' for rows where ocean_proximity is 'NEAR BAY'\n",
    "median_house_value_near_bay = df.loc[df['ocean_proximity'] == 'NEAR BAY', 'median_house_value']\n",
    "\n",
    "print(\"median_house_value for rows with ocean_proximity 'NEAR BAY':\")\n",
    "print(median_house_value_near_bay)"
   ]
  },
  {
   "cell_type": "code",
   "execution_count": 7,
   "id": "48646777",
   "metadata": {},
   "outputs": [
    {
     "name": "stdout",
     "output_type": "stream",
     "text": [
      "Average of median_house_value for rows with ocean_proximity 'NEAR BAY': 259212.31179039303\n"
     ]
    }
   ],
   "source": [
    "# Calculate the average of 'median_house_value' for these rows\n",
    "mean_median_house_value_near_bay = median_house_value_near_bay.mean()\n",
    "\n",
    "print(\"Average of median_house_value for rows with ocean_proximity 'NEAR BAY':\", mean_median_house_value_near_bay)"
   ]
  },
  {
   "cell_type": "code",
   "execution_count": 8,
   "id": "5a2d2350",
   "metadata": {},
   "outputs": [
    {
     "name": "stdout",
     "output_type": "stream",
     "text": [
      "Average of total_bedrooms column: 537.871\n"
     ]
    }
   ],
   "source": [
    "#question 6.1\n",
    "\n",
    "# Calculate the average of the 'total_bedrooms' column\n",
    "mean_total_bedrooms = df['total_bedrooms'].mean()\n",
    "\n",
    "mean_total_bedrooms = round(mean_total_bedrooms, 3) \n",
    "\n",
    "print(\"Average of total_bedrooms column:\", mean_total_bedrooms)\n"
   ]
  },
  {
   "cell_type": "code",
   "execution_count": 9,
   "id": "154918f0",
   "metadata": {},
   "outputs": [
    {
     "name": "stdout",
     "output_type": "stream",
     "text": [
      "Mean value for 'total_bedrooms' used for filling missing values: 537.871\n",
      "Number of remaining missing values in 'total_bedrooms' after filling: 0\n"
     ]
    }
   ],
   "source": [
    "#question 6.2\n",
    "\n",
    "# Fill missing values in 'total_bedrooms' with the mean value\n",
    "df['total_bedrooms'].fillna(mean_total_bedrooms, inplace=True)\n",
    "\n",
    "# Check if there are any remaining missing values\n",
    "missing_values_after_fillna = df['total_bedrooms'].isnull().sum()\n",
    "\n",
    "print(\"Mean value for 'total_bedrooms' used for filling missing values:\", mean_total_bedrooms)\n",
    "print(\"Number of remaining missing values in 'total_bedrooms' after filling:\", missing_values_after_fillna)"
   ]
  },
  {
   "cell_type": "code",
   "execution_count": 10,
   "id": "88519ce6",
   "metadata": {},
   "outputs": [
    {
     "name": "stdout",
     "output_type": "stream",
     "text": [
      "Average of total_bedrooms column: 537.871\n"
     ]
    }
   ],
   "source": [
    "#question 6.3\n",
    "\n",
    "# Calculate the average of the 'total_bedrooms' column\n",
    "mean_total_bedrooms = df['total_bedrooms'].mean()\n",
    "\n",
    "mean_total_bedrooms = round(mean_total_bedrooms, 3) \n",
    "print(\"Average of total_bedrooms column:\", mean_total_bedrooms)"
   ]
  },
  {
   "cell_type": "code",
   "execution_count": 11,
   "id": "48b1cf29",
   "metadata": {},
   "outputs": [
    {
     "name": "stdout",
     "output_type": "stream",
     "text": [
      "      longitude  latitude  housing_median_age  total_rooms  total_bedrooms  \\\n",
      "8314    -118.32     33.35                27.0       1675.0           521.0   \n",
      "8315    -118.33     33.34                52.0       2359.0           591.0   \n",
      "8316    -118.32     33.33                52.0       2127.0           512.0   \n",
      "8317    -118.32     33.34                52.0        996.0           264.0   \n",
      "8318    -118.48     33.43                29.0        716.0           214.0   \n",
      "\n",
      "      population  households  median_income  median_house_value  \\\n",
      "8314       744.0       331.0         2.1579            450000.0   \n",
      "8315      1100.0       431.0         2.8333            414700.0   \n",
      "8316       733.0       288.0         3.3906            300000.0   \n",
      "8317       341.0       160.0         2.7361            450000.0   \n",
      "8318       422.0       173.0         2.6042            287500.0   \n",
      "\n",
      "     ocean_proximity  \n",
      "8314          ISLAND  \n",
      "8315          ISLAND  \n",
      "8316          ISLAND  \n",
      "8317          ISLAND  \n",
      "8318          ISLAND  \n"
     ]
    }
   ],
   "source": [
    "#question 7.1\n",
    "on_islands = df.loc[df['ocean_proximity'] == 'ISLAND']\n",
    "print(on_islands)"
   ]
  },
  {
   "cell_type": "code",
   "execution_count": 12,
   "id": "a22a9754",
   "metadata": {},
   "outputs": [
    {
     "name": "stdout",
     "output_type": "stream",
     "text": [
      "      housing_median_age  total_rooms  total_bedrooms\n",
      "8314                27.0       1675.0           521.0\n",
      "8315                52.0       2359.0           591.0\n",
      "8316                52.0       2127.0           512.0\n",
      "8317                52.0        996.0           264.0\n",
      "8318                29.0        716.0           214.0\n"
     ]
    }
   ],
   "source": [
    "#question 7.2\n",
    "\n",
    "# Select the 'housing_median_age', 'total_rooms', 'total_bedrooms' for rows where ocean_proximity is 'ISLAND'\n",
    "selected_data = df.loc[df['ocean_proximity'] == 'ISLAND', ['housing_median_age', 'total_rooms', 'total_bedrooms']]\n",
    "print(selected_data )"
   ]
  },
  {
   "cell_type": "code",
   "execution_count": 13,
   "id": "b105c97a",
   "metadata": {},
   "outputs": [
    {
     "name": "stdout",
     "output_type": "stream",
     "text": [
      "X:\n",
      "[[  27. 1675.  521.]\n",
      " [  52. 2359.  591.]\n",
      " [  52. 2127.  512.]\n",
      " [  52.  996.  264.]\n",
      " [  29.  716.  214.]]\n"
     ]
    }
   ],
   "source": [
    "#question 7.3\n",
    "\n",
    "import numpy as np\n",
    "\n",
    "# Convert to a NumPy array\n",
    "X = np.array(selected_data)\n",
    "\n",
    "print(\"X:\")\n",
    "print(X)"
   ]
  },
  {
   "cell_type": "code",
   "execution_count": 14,
   "id": "89949b07",
   "metadata": {},
   "outputs": [
    {
     "name": "stdout",
     "output_type": "stream",
     "text": [
      "X:\n",
      "[[  27. 1675.  521.]\n",
      " [  52. 2359.  591.]\n",
      " [  52. 2127.  512.]\n",
      " [  52.  996.  264.]\n",
      " [  29.  716.  214.]]\n",
      "\n",
      "X Transpose:\n",
      "[[  27.   52.   52.   52.   29.]\n",
      " [1675. 2359. 2127.  996.  716.]\n",
      " [ 521.  591.  512.  264.  214.]]\n"
     ]
    }
   ],
   "source": [
    "#question 7.4 Part A\n",
    "\n",
    "XT = X.T\n",
    "\n",
    "print(\"X:\")\n",
    "print(X)\n",
    "print(\"\\nX Transpose:\")\n",
    "print(XT)"
   ]
  },
  {
   "cell_type": "code",
   "execution_count": 15,
   "id": "83d8b1c6",
   "metadata": {},
   "outputs": [
    {
     "name": "stdout",
     "output_type": "stream",
     "text": [
      "Result:\n",
      "[[9.6820000e+03 3.5105300e+05 9.1357000e+04]\n",
      " [3.5105300e+05 1.4399307e+07 3.7720360e+06]\n",
      " [9.1357000e+04 3.7720360e+06 9.9835800e+05]]\n"
     ]
    }
   ],
   "source": [
    "#question 7.4 Part B\n",
    "\n",
    "#Compute matrix-matrix multiplication between the transpose of X and X.\n",
    "\n",
    "# Perform matrix-matrix multiplication\n",
    "XTX = np.dot(XT, X)\n",
    "\n",
    "# Print the result\n",
    "print(\"Result:\")\n",
    "print(XTX)"
   ]
  },
  {
   "cell_type": "code",
   "execution_count": 16,
   "id": "3ee25769",
   "metadata": {},
   "outputs": [
    {
     "name": "stdout",
     "output_type": "stream",
     "text": [
      "XTX:\n",
      "[[9.6820000e+03 3.5105300e+05 9.1357000e+04]\n",
      " [3.5105300e+05 1.4399307e+07 3.7720360e+06]\n",
      " [9.1357000e+04 3.7720360e+06 9.9835800e+05]]\n",
      "\n",
      "Inverse XTX:\n",
      "[[ 9.19403586e-04 -3.66412216e-05  5.43072261e-05]\n",
      " [-3.66412216e-05  8.23303633e-06 -2.77534485e-05]\n",
      " [ 5.43072261e-05 -2.77534485e-05  1.00891325e-04]]\n"
     ]
    }
   ],
   "source": [
    "#question 7.5\n",
    "\n",
    "# Check if the matrix is square (i.e., number of rows = number of columns)\n",
    "if XTX.shape[0] == XTX.shape[1]:\n",
    "    # Compute the inverse of the matrix\n",
    "    inverse_XTX = np.linalg.inv(XTX)\n",
    "    \n",
    "    # Print the inverse matrix\n",
    "    print(\"XTX:\")\n",
    "    print(XTX)\n",
    "    print(\"\\nInverse XTX:\")\n",
    "    print(inverse_XTX)\n",
    "else:\n",
    "    print(\"The matrix is not square. Cannot compute inverse.\")"
   ]
  },
  {
   "cell_type": "code",
   "execution_count": 17,
   "id": "c568b480",
   "metadata": {},
   "outputs": [
    {
     "name": "stdout",
     "output_type": "stream",
     "text": [
      "y: [ 950 1300  800 1000 1300]\n"
     ]
    }
   ],
   "source": [
    "#question 7.6\n",
    "\n",
    "y = np.array([950, 1300, 800, 1000, 1300])\n",
    "\n",
    "# Print the NumPy array y\n",
    "print(\"y:\", y)"
   ]
  },
  {
   "cell_type": "code",
   "execution_count": 18,
   "id": "adfc1b35",
   "metadata": {},
   "outputs": [
    {
     "name": "stdout",
     "output_type": "stream",
     "text": [
      "[[-0.00825608 -0.00653208 -0.00232159  0.02565144  0.01204934]\n",
      " [-0.00165852  0.0011141   0.00139656 -0.00103215 -0.00110698]\n",
      " [ 0.00754365 -0.00301964 -0.00455125  0.00181685  0.00329418]]\n",
      "w:\n",
      "[23.12330961 -1.48124183  5.69922946]\n"
     ]
    }
   ],
   "source": [
    "#question 7.7\n",
    "\n",
    "result_dot = np.dot(inverse_XTX,XT)\n",
    "\n",
    "print(result_dot)\n",
    "\n",
    "w = np.dot(result_dot,y)\n",
    "\n",
    "print(\"w:\")\n",
    "print(w)"
   ]
  },
  {
   "cell_type": "code",
   "execution_count": null,
   "id": "00510488",
   "metadata": {},
   "outputs": [],
   "source": []
  }
 ],
 "metadata": {
  "kernelspec": {
   "display_name": "Python 3 (ipykernel)",
   "language": "python",
   "name": "python3"
  },
  "language_info": {
   "codemirror_mode": {
    "name": "ipython",
    "version": 3
   },
   "file_extension": ".py",
   "mimetype": "text/x-python",
   "name": "python",
   "nbconvert_exporter": "python",
   "pygments_lexer": "ipython3",
   "version": "3.9.12"
  }
 },
 "nbformat": 4,
 "nbformat_minor": 5
}
